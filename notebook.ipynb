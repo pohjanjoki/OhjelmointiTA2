{
 "metadata": {
  "language_info": {
   "codemirror_mode": {
    "name": "ipython",
    "version": 3
   },
   "file_extension": ".py",
   "mimetype": "text/x-python",
   "name": "python",
   "nbconvert_exporter": "python",
   "pygments_lexer": "ipython3",
   "version": "3.9.1-final"
  },
  "orig_nbformat": 2,
  "kernelspec": {
   "name": "python3",
   "display_name": "Python 3.9.1 64-bit ('venv')",
   "metadata": {
    "interpreter": {
     "hash": "9aba3eeae29f45ddfd58851d4a57e41c979c84a8196d2a1484508a090b4dd8c3"
    }
   }
  }
 },
 "nbformat": 4,
 "nbformat_minor": 2,
 "cells": [
  {
   "source": [
    "# Painonhallinta\n",
    "Prototyyppi painonhallintasovelluksen rakentamiseksi."
   ],
   "cell_type": "markdown",
   "metadata": {}
  },
  {
   "source": [
    "## Laskentakaavat\n",
    "Painoindeksi BMI (Body Mass Index):  paino (kg) / (pituus(m) x pituus(m))\n",
    "\n",
    "Aikuisen rasvaprosentti = (1.20 × painoindeksi) + (0.23 × ikä) − (10.8 × sukupuoli) − 5.4\n",
    "\n",
    "Lapsen rasvaprosentti = (1.51 × painoindeksi) − (0.70 × ikä) − (3.6 × sukupuoli) + 1.4\n",
    "\n",
    "Sukupuolikoodaus: miehet 1, naiset 0\n",
    "\n"
   ],
   "cell_type": "markdown",
   "metadata": {}
  },
  {
   "cell_type": "code",
   "execution_count": 1,
   "metadata": {},
   "outputs": [],
   "source": [
    "# Funkio kehon painoindeksin (BMI) laskemiseen\n",
    "def bmi(paino, pituus):\n",
    "    painoindeksi = paino / pituus ** 2\n",
    "    return painoindeksi"
   ]
  },
  {
   "cell_type": "code",
   "execution_count": 2,
   "metadata": {},
   "outputs": [],
   "source": [
    "# Funktio kehon rasvaprosentin laskemiseen\n",
    "def rasvaprosentti(bmi, ika, sukupuoli):\n",
    "    aikuisen_rasvaprosentti = (1.20 * bmi) + (0.23 * ika) - (10.8 * sukupuoli) - 5.4\n",
    "    return aikuisen_rasvaprosentti"
   ]
  },
  {
   "cell_type": "code",
   "execution_count": 3,
   "metadata": {},
   "outputs": [],
   "source": [
    "# Kysytään käyttäjältä tarvittavat tiedot (Huom! Näppäimistöstä saadaan aina merkkijono (string))\n",
    "paino_str = input('Anna paino kilogrammoina: ')\n",
    "pituus_str = input('Anna pituus metreinä: ')\n",
    "ika_str = input('Anna ika vuosina: ')\n",
    "sukupuoli_str = input('Anna sukupuoli (1 = mies, 0 = nainen: ')"
   ]
  },
  {
   "cell_type": "code",
   "execution_count": 4,
   "metadata": {},
   "outputs": [],
   "source": [
    "# Muutetaan merkkijonot luvuiksi\n",
    "paino = float(paino_str)\n",
    "pituus = float(pituus_str)\n",
    "ika = float(ika_str)\n",
    "sukupuoli = float(sukupuoli_str)"
   ]
  },
  {
   "cell_type": "code",
   "execution_count": 5,
   "metadata": {},
   "outputs": [
    {
     "output_type": "stream",
     "name": "stdout",
     "text": [
      "Rasvaprosentti on 37.50304733971108\n"
     ]
    }
   ],
   "source": [
    "# Lasketaan painoindeksi kysyttyjen tietojen perusteella\n",
    "bmi = bmi(paino,pituus)\n",
    "\n",
    "# Lasketaan rasvaprosentti\n",
    "rasvaprosentti = rasvaprosentti(bmi, ika, sukupuoli)\n",
    "print('Rasvaprosentti on', rasvaprosentti)"
   ]
  }
 ]
}